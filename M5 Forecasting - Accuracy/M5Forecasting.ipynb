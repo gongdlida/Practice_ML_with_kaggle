{
 "cells": [
  {
   "cell_type": "markdown",
   "metadata": {},
   "source": [
    "## 매장의 제품별 일간 판매량 예측\n",
    "- 목적: 28일간 이들 매장의 제품별 일간 판매량을 예측\n",
    "- 데이터: 미국 3개주에 있는 10개의 월마트 매장의 제품별 일간 판매 데이터\n",
    "\n",
    "- 제공되는 데이터 집합\n",
    "  - calendar.csv: 일간 상품판매에 대한 데아터\n",
    "  - sell_prices.csv: 월마트 지점(지역)별 제품 가격\n",
    "  - sales_train_validation.csv: \n",
    "  - sales_train_evaluation.csv: 월마트 지점(지역)별 판매된 제품 정보\n",
    "  - sample_submission.csv: 제출 포맷"
   ]
  },
  {
   "cell_type": "code",
   "execution_count": null,
   "metadata": {},
   "outputs": [],
   "source": []
  }
 ],
 "metadata": {
  "kernelspec": {
   "display_name": "Python 3.9.10 64-bit",
   "language": "python",
   "name": "python3"
  },
  "language_info": {
   "name": "python",
   "version": "3.9.10"
  },
  "orig_nbformat": 4,
  "vscode": {
   "interpreter": {
    "hash": "aee8b7b246df8f9039afb4144a1f6fd8d2ca17a180786b69acc140d282b71a49"
   }
  }
 },
 "nbformat": 4,
 "nbformat_minor": 2
}
